{
 "cells": [
  {
   "cell_type": "code",
   "execution_count": 40,
   "metadata": {
    "collapsed": false
   },
   "outputs": [],
   "source": [
    "import smtplib\n",
    "import time\n",
    "import imaplib\n",
    "import email\n",
    "\n",
    "# -------------------------------------------------\n",
    "#\n",
    "# Utility to read email from Gmail Using Python\n",
    "#\n",
    "# ------------------------------------------------\n",
    "\n",
    "def read_email_from_gmail(FROM_EMAIL, FROM_PWD, SMTP_SERVER):\n",
    "    try:\n",
    "        mail = imaplib.IMAP4_SSL(SMTP_SERVER)\n",
    "        mail.login(FROM_EMAIL,FROM_PWD)\n",
    "        mail.select('inbox')\n",
    "\n",
    "        type, data = mail.search(None, 'ALL')\n",
    "        mail_ids = data[0]\n",
    "        id_list = mail_ids.split()   \n",
    "        first_email_id = int(id_list[0])\n",
    "        latest_email_id = int(id_list[-1])\n",
    "\n",
    "\n",
    "#         for i in range(latest_email_id,first_email_id, -1):\n",
    "#             typ, data = mail.fetch(i, '(RFC822)' )\n",
    "        typ, data = mail.fetch(100, '(RFC822)' )\n",
    "\n",
    "        for response_part in data:\n",
    "            if isinstance(response_part, tuple):\n",
    "                msg = email.message_from_string(response_part[1])\n",
    "                email_subject = msg['subject']\n",
    "                email_from = msg['from']\n",
    "                print msg.get_payload(None, True)\n",
    "                print 'From : ' + email_from + '\\n'\n",
    "                print 'Subject : ' + email_subject + '\\n'\n",
    "    \n",
    "    except Exception, e:\n",
    "        print str(e)\n",
    "        \n",
    "    return msg"
   ]
  },
  {
   "cell_type": "code",
   "execution_count": 41,
   "metadata": {
    "collapsed": false
   },
   "outputs": [
    {
     "name": "stdout",
     "output_type": "stream",
     "text": [
      "<div dir=\"ltr\"><div><p style=\"margin:0in 0in 0pt\"><font face=\"Calibri\"><font size=\"3\"><font color=\"#000000\"><span>Mission Bay has updated our email addresses. We have automatically forwarded your email to the General Manager and it will be responded to, however please contact our office for information on sending future emails to the correct person. </span></font></font></font></p><font color=\"#000000\" face=\"Times New Roman\" size=\"3\">\r\n",
      "\r\n",
      "</font><p style=\"margin:0in 0in 0pt\"><font color=\"#000000\" face=\"Calibri\" size=\"3\"> </font></p><font color=\"#000000\" face=\"Times New Roman\" size=\"3\">\r\n",
      "\r\n",
      "</font><font color=\"#000000\" face=\"Times New Roman\" size=\"3\">\r\n",
      "\r\n",
      "</font><font color=\"#000000\" face=\"Calibri\" size=\"3\">Mission Bay Community Association, Inc. </font><p style=\"margin:0in 0in 0pt\"><font color=\"#000000\" face=\"Calibri\" size=\"3\">10555 Diego Drive S.</font></p><p style=\"margin:0in 0in 0pt\"><font color=\"#000000\" face=\"Calibri\" size=\"3\">Boca Raton, FL 33428</font></p><font color=\"#000000\" face=\"Times New Roman\" size=\"3\">\r\n",
      "\r\n",
      "</font><p style=\"margin:0in 0in 0pt\"><font color=\"#000000\" face=\"Calibri\" size=\"3\">(561) 479-1900</font></p><p style=\"margin:0in 0in 0pt\"><font color=\"#000000\" face=\"Calibri\" size=\"3\"><br></font></p><p style=\"margin:0in 0in 0pt\"><font color=\"#000000\" face=\"Calibri\" size=\"3\">Office hours: 8:30 a.m. - 5:00 p.m., Monday - Friday</font></p><font color=\"#000000\" face=\"Times New Roman\" size=\"3\">\r\n",
      "\r\n",
      "</font></div><div> </div><div><font color=\"#000000\" face=\"Calibri\" size=\"3\">Thank you,</font></div><div><font color=\"#000000\" face=\"Calibri\" size=\"3\">Mission Bay </font> </div></div>\r\n",
      "\n",
      "From : \"Mission Bay\" <missionbaybr@gmail.com>\n",
      "\n",
      "Subject : Mission Bay Email Re: Hourly rate for babysittng\n",
      "\n"
     ]
    }
   ],
   "source": [
    "SMTP_SERVER = \"imap.gmail.com\"\n",
    "SMTP_PORT   = 993\n",
    "FROM_EMAIL = 'james.hoyt1124@gmail.com'\n",
    "FROM_PWD = 'asdfjkl123'\n",
    "test = read_email_from_gmail(FROM_EMAIL, FROM_PWD, SMTP_SERVER)"
   ]
  },
  {
   "cell_type": "code",
   "execution_count": 28,
   "metadata": {
    "collapsed": false
   },
   "outputs": [
    {
     "data": {
      "text/plain": [
       "['Delivered-To',\n",
       " 'Received',\n",
       " 'X-Received',\n",
       " 'ARC-Seal',\n",
       " 'ARC-Message-Signature',\n",
       " 'ARC-Authentication-Results',\n",
       " 'Return-Path',\n",
       " 'Received',\n",
       " 'Received-SPF',\n",
       " 'Authentication-Results',\n",
       " 'DKIM-Signature',\n",
       " 'X-Google-DKIM-Signature',\n",
       " 'X-Gm-Message-State',\n",
       " 'X-Google-Smtp-Source',\n",
       " 'X-Received',\n",
       " 'To',\n",
       " 'From',\n",
       " 'Date',\n",
       " 'Message-ID',\n",
       " 'Subject',\n",
       " 'MIME-Version',\n",
       " 'Content-Type',\n",
       " 'Content-Transfer-Encoding',\n",
       " 'Content-Disposition',\n",
       " 'Precedence',\n",
       " 'X-Autoreply',\n",
       " 'Auto-Submitted']"
      ]
     },
     "execution_count": 28,
     "metadata": {},
     "output_type": "execute_result"
    }
   ],
   "source": [
    "test.keys()"
   ]
  },
  {
   "cell_type": "code",
   "execution_count": 29,
   "metadata": {
    "collapsed": false
   },
   "outputs": [
    {
     "data": {
      "text/plain": [
       "'Mission Bay Email Re: Hourly rate for babysittng'"
      ]
     },
     "execution_count": 29,
     "metadata": {},
     "output_type": "execute_result"
    }
   ],
   "source": [
    "test['subject']"
   ]
  },
  {
   "cell_type": "code",
   "execution_count": 30,
   "metadata": {
    "collapsed": false
   },
   "outputs": [
    {
     "data": {
      "text/plain": [
       "'by 10.157.62.17 with SMTP id a17csp219774otd;\\r\\n        Wed, 29 Nov 2017 22:03:34 -0800 (PST)'"
      ]
     },
     "execution_count": 30,
     "metadata": {},
     "output_type": "execute_result"
    }
   ],
   "source": [
    "test['Received']"
   ]
  }
 ],
 "metadata": {
  "kernelspec": {
   "display_name": "Python 2",
   "language": "python",
   "name": "python2"
  },
  "language_info": {
   "codemirror_mode": {
    "name": "ipython",
    "version": 2
   },
   "file_extension": ".py",
   "mimetype": "text/x-python",
   "name": "python",
   "nbconvert_exporter": "python",
   "pygments_lexer": "ipython2",
   "version": "2.7.13"
  }
 },
 "nbformat": 4,
 "nbformat_minor": 2
}

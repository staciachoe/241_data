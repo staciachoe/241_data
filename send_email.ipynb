{
 "cells": [
  {
   "cell_type": "code",
   "execution_count": 9,
   "metadata": {
    "collapsed": true
   },
   "outputs": [],
   "source": [
    "import pandas as pd\n",
    "import os"
   ]
  },
  {
   "cell_type": "code",
   "execution_count": 10,
   "metadata": {
    "collapsed": true
   },
   "outputs": [],
   "source": [
    "import smtplib\n",
    " \n",
    "def sendemail(from_addr, to_addr_list, cc_addr_list,\n",
    "              subject, message,\n",
    "              login, password,\n",
    "              smtpserver='smtp.gmail.com:587'):\n",
    "    header  = 'From: %s\\n' % from_addr\n",
    "    header += 'To: %s\\n' % ','.join(to_addr_list)\n",
    "    header += 'Cc: %s\\n' % ','.join(cc_addr_list)\n",
    "    header += 'Subject: %s\\n\\n' % subject\n",
    "    message = header + message\n",
    "    \n",
    "\n",
    "    server = smtplib.SMTP(smtpserver)\n",
    "    server.ehlo()\n",
    "    server.starttls()\n",
    "    server.login(login,password)\n",
    "    print (\"Sending\", from_addr, to_addr_list)\n",
    "    problems = server.sendmail(from_addr, to_addr_list, message)\n",
    "    server.quit()\n",
    "    return problems\n",
    "    #return None"
   ]
  },
  {
   "cell_type": "code",
   "execution_count": 11,
   "metadata": {
    "collapsed": false
   },
   "outputs": [],
   "source": [
    "def send_math_email(from_addr, to_addr):\n",
    "    # Identify the first name to use\n",
    "    [first_name, junk, junk2] = from_addr.split('.')\n",
    "    first_name = first_name.capitalize()\n",
    "    # Identify the login to use\n",
    "    [login, junk] = from_addr.split('@')\n",
    "    \n",
    "    # CHANGE THE SUBJECT AND MESSAGE\n",
    "    sendemail(from_addr= from_addr, \n",
    "          to_addr_list = [to_addr],\n",
    "          cc_addr_list = [],\n",
    "          subject      = 'Cost for math tutoring', \n",
    "          message      = 'Hi,\\n\\nI am looking to get a math tutor for my 15 year old. What is your hourly rate ?\\n\\nThanks,\\n\\n%s' % first_name,          \n",
    "          login        = login, \n",
    "          password     = 'asdfjkl123')"
   ]
  },
  {
   "cell_type": "code",
   "execution_count": 12,
   "metadata": {
    "collapsed": false
   },
   "outputs": [],
   "source": [
    "# CHANGE THE ROOT PATH\n",
    "root_path = r'C:\\Users\\stacia\\Documents\\w241\\project_tmp3\\241_data'\n",
    "\n",
    "\n",
    "# Read tutoring businesses\n",
    "# CHANGE math+tutoring TO YOUR SECTOR\n",
    "tutor_path = os.path.join(root_path, 'emailsonly_math+tutoring.txt')\n",
    "tutor_info = pd.read_table(tutor_path, '\\t', header=None, names=['email'])\n",
    "# Read fake email addresses\n",
    "email_path = os.path.join(root_path, 'name_list.txt')\n",
    "email_info = pd.read_table(email_path, '\\t', header=None, names=['name','email'])\n",
    "email_info = email_info.dropna()"
   ]
  },
  {
   "cell_type": "code",
   "execution_count": 13,
   "metadata": {
    "collapsed": false
   },
   "outputs": [],
   "source": [
    "# Only keep the businesses with email address, could lead to selection bias\n",
    "sub_tutor_info = tutor_info.dropna()"
   ]
  },
  {
   "cell_type": "code",
   "execution_count": 14,
   "metadata": {
    "collapsed": false
   },
   "outputs": [
    {
     "data": {
      "text/html": [
       "<div>\n",
       "<style>\n",
       "    .dataframe thead tr:only-child th {\n",
       "        text-align: right;\n",
       "    }\n",
       "\n",
       "    .dataframe thead th {\n",
       "        text-align: left;\n",
       "    }\n",
       "\n",
       "    .dataframe tbody tr th {\n",
       "        vertical-align: top;\n",
       "    }\n",
       "</style>\n",
       "<table border=\"1\" class=\"dataframe\">\n",
       "  <thead>\n",
       "    <tr style=\"text-align: right;\">\n",
       "      <th></th>\n",
       "      <th>name</th>\n",
       "      <th>email</th>\n",
       "    </tr>\n",
       "  </thead>\n",
       "  <tbody>\n",
       "    <tr>\n",
       "      <th>0</th>\n",
       "      <td>James Hoyt</td>\n",
       "      <td>james.hoyt1124@gmail.com</td>\n",
       "    </tr>\n",
       "    <tr>\n",
       "      <th>1</th>\n",
       "      <td>Sarah Anderson</td>\n",
       "      <td>sarah.anderson1124@gmail.com</td>\n",
       "    </tr>\n",
       "    <tr>\n",
       "      <th>2</th>\n",
       "      <td>Maria Rodriguez</td>\n",
       "      <td>maria.rodriguez112453@gmail.com</td>\n",
       "    </tr>\n",
       "    <tr>\n",
       "      <th>3</th>\n",
       "      <td>Juan Sanchez</td>\n",
       "      <td>juan.sanchez112453@gmail.com</td>\n",
       "    </tr>\n",
       "    <tr>\n",
       "      <th>4</th>\n",
       "      <td>Michelle Chen</td>\n",
       "      <td>michelle.chen112453@gmail.com</td>\n",
       "    </tr>\n",
       "    <tr>\n",
       "      <th>5</th>\n",
       "      <td>Gary Chow</td>\n",
       "      <td>gary.chow112453@gmail.com</td>\n",
       "    </tr>\n",
       "    <tr>\n",
       "      <th>6</th>\n",
       "      <td>Tyrone James</td>\n",
       "      <td>tyrone.james1124@gmail.com</td>\n",
       "    </tr>\n",
       "    <tr>\n",
       "      <th>7</th>\n",
       "      <td>LaToya Johnson</td>\n",
       "      <td>latoya.johnson1124@gmail.com</td>\n",
       "    </tr>\n",
       "  </tbody>\n",
       "</table>\n",
       "</div>"
      ],
      "text/plain": [
       "              name                            email\n",
       "0       James Hoyt         james.hoyt1124@gmail.com\n",
       "1   Sarah Anderson     sarah.anderson1124@gmail.com\n",
       "2  Maria Rodriguez  maria.rodriguez112453@gmail.com\n",
       "3     Juan Sanchez     juan.sanchez112453@gmail.com\n",
       "4    Michelle Chen    michelle.chen112453@gmail.com\n",
       "5        Gary Chow        gary.chow112453@gmail.com\n",
       "6     Tyrone James       tyrone.james1124@gmail.com\n",
       "7   LaToya Johnson     latoya.johnson1124@gmail.com"
      ]
     },
     "execution_count": 14,
     "metadata": {},
     "output_type": "execute_result"
    }
   ],
   "source": [
    "email_info"
   ]
  },
  {
   "cell_type": "code",
   "execution_count": null,
   "metadata": {
    "collapsed": false,
    "scrolled": true
   },
   "outputs": [
    {
     "data": {
      "text/html": [
       "<div>\n",
       "<style>\n",
       "    .dataframe thead tr:only-child th {\n",
       "        text-align: right;\n",
       "    }\n",
       "\n",
       "    .dataframe thead th {\n",
       "        text-align: left;\n",
       "    }\n",
       "\n",
       "    .dataframe tbody tr th {\n",
       "        vertical-align: top;\n",
       "    }\n",
       "</style>\n",
       "<table border=\"1\" class=\"dataframe\">\n",
       "  <thead>\n",
       "    <tr style=\"text-align: right;\">\n",
       "      <th></th>\n",
       "      <th>email</th>\n",
       "    </tr>\n",
       "  </thead>\n",
       "  <tbody>\n",
       "    <tr>\n",
       "      <th>0</th>\n",
       "      <td>reachnickpham@gmail.com</td>\n",
       "    </tr>\n",
       "    <tr>\n",
       "      <th>1</th>\n",
       "      <td>efernandez@tritonmuseum.org</td>\n",
       "    </tr>\n",
       "    <tr>\n",
       "      <th>2</th>\n",
       "      <td>ender.markal@sftutors.com</td>\n",
       "    </tr>\n",
       "    <tr>\n",
       "      <th>3</th>\n",
       "      <td>parkptsa@att.net</td>\n",
       "    </tr>\n",
       "    <tr>\n",
       "      <th>4</th>\n",
       "      <td>teachertutors@ymail.com</td>\n",
       "    </tr>\n",
       "  </tbody>\n",
       "</table>\n",
       "</div>"
      ],
      "text/plain": [
       "                         email\n",
       "0      reachnickpham@gmail.com\n",
       "1  efernandez@tritonmuseum.org\n",
       "2    ender.markal@sftutors.com\n",
       "3             parkptsa@att.net\n",
       "4      teachertutors@ymail.com"
      ]
     },
     "execution_count": 15,
     "metadata": {},
     "output_type": "execute_result"
    }
   ],
   "source": [
    "sub_tutor_info.head()"
   ]
  },
  {
   "cell_type": "code",
   "execution_count": null,
   "metadata": {
    "collapsed": false
   },
   "outputs": [
    {
     "name": "stdout",
     "output_type": "stream",
     "text": [
      "('Sending', 'james.hoyt1124@gmail.com', ['reachnickpham@gmail.com'])\n",
      "('Sending', 'sarah.anderson1124@gmail.com', ['efernandez@tritonmuseum.org'])\n",
      "('Sending', 'maria.rodriguez112453@gmail.com', ['ender.markal@sftutors.com'])\n",
      "('Sending', 'juan.sanchez112453@gmail.com', ['parkptsa@att.net'])\n",
      "('Sending', 'michelle.chen112453@gmail.com', ['teachertutors@ymail.com'])\n",
      "('Sending', 'gary.chow112453@gmail.com', ['lauren.young@thomsonreuters.com'])\n",
      "('Sending', 'tyrone.james1124@gmail.com', ['sslye@nvbc.org'])\n",
      "('Sending', 'latoya.johnson1124@gmail.com', ['christinechang@ikumon.com'])\n",
      "('Sending', 'james.hoyt1124@gmail.com', ['info@thrivingmindslearning.com'])\n",
      "('Sending', 'sarah.anderson1124@gmail.com', ['info@communityschoolforcreativeeducation.org'])\n",
      "('Sending', 'maria.rodriguez112453@gmail.com', ['kermankwok@ikumon.com'])\n",
      "('Sending', 'juan.sanchez112453@gmail.com', ['renaissancept@yahoo.com'])\n",
      "('Sending', 'michelle.chen112453@gmail.com', ['rscbusiness2010@gmail.com'])\n",
      "('Sending', 'gary.chow112453@gmail.com', ['safarikiddeanza@yahoo.com'])\n",
      "('Sending', 'tyrone.james1124@gmail.com', ['info@uhtcenter.com'])\n",
      "('Sending', 'latoya.johnson1124@gmail.com', ['support@learnboost.com'])\n",
      "('Sending', 'james.hoyt1124@gmail.com', ['abcinfo@alphabeacon.org'])\n",
      "('Sending', 'sarah.anderson1124@gmail.com', ['lorraine@savvyu360.com'])\n",
      "('Sending', 'maria.rodriguez112453@gmail.com', ['baysidemontessori@gmail.com'])\n",
      "('Sending', 'juan.sanchez112453@gmail.com', ['littlebilingualangels@yahoo.com'])\n",
      "('Sending', 'michelle.chen112453@gmail.com', ['info@naturesgiftpreschools.com'])\n",
      "('Sending', 'gary.chow112453@gmail.com', ['ask@collaborativeclassroom.org'])\n",
      "('Sending', 'tyrone.james1124@gmail.com', ['classes@artacademia.com'])\n",
      "('Sending', 'latoya.johnson1124@gmail.com', ['arnaldo.concepcion@highlandsministries.com'])\n",
      "('Sending', 'james.hoyt1124@gmail.com', ['clafaille@comcast.net'])\n",
      "('Sending', 'sarah.anderson1124@gmail.com', ['admin@svma.org'])\n",
      "('Sending', 'maria.rodriguez112453@gmail.com', ['service@elearningguild.com'])\n",
      "('Sending', 'juan.sanchez112453@gmail.com', ['cascade@cascadecanyon.org'])\n",
      "('Sending', 'michelle.chen112453@gmail.com', ['tutoring@a-plus-home-tutoring.com'])\n",
      "('Sending', 'gary.chow112453@gmail.com', ['karen@redbudmontessori.org'])\n",
      "('Sending', 'tyrone.james1124@gmail.com', ['brian@aplushometutors.com'])\n",
      "('Sending', 'latoya.johnson1124@gmail.com', ['pcwu@ucdavis.edu'])\n",
      "('Sending', 'james.hoyt1124@gmail.com', ['smakaremi@oaklandinternational.org'])\n",
      "('Sending', 'sarah.anderson1124@gmail.com', ['oftamused@yahoo.com'])\n",
      "('Sending', 'maria.rodriguez112453@gmail.com', ['sue@novatomontessori.com'])\n",
      "('Sending', 'juan.sanchez112453@gmail.com', ['fsutaprez@gmail.com'])\n",
      "('Sending', 'michelle.chen112453@gmail.com', ['j_thomas@smcoe.k12.ca.us'])\n",
      "('Sending', 'gary.chow112453@gmail.com', ['irenetam@ikumon.com'])\n",
      "('Sending', 'tyrone.james1124@gmail.com', ['info@therenaissanceschool.org'])\n",
      "('Sending', 'latoya.johnson1124@gmail.com', ['directors@millcreekacademy.com'])\n",
      "('Sending', 'james.hoyt1124@gmail.com', ['lori.harberts@writingassist.com'])\n",
      "('Sending', 'sarah.anderson1124@gmail.com', ['sanjosecambrianpark_ca@ikumon.com'])\n",
      "('Sending', 'maria.rodriguez112453@gmail.com', ['smilingstar5@msn.com'])\n",
      "('Sending', 'juan.sanchez112453@gmail.com', ['finnamore@landset.com'])\n",
      "('Sending', 'michelle.chen112453@gmail.com', ['debbie.flores@gusd.k12.ca.us'])\n",
      "('Sending', 'gary.chow112453@gmail.com', ['info@ninefruits.org'])\n",
      "('Sending', 'tyrone.james1124@gmail.com', ['philpeyron@ikumon.com'])\n",
      "('Sending', 'latoya.johnson1124@gmail.com', ['edctr@pacbell.net'])\n",
      "('Sending', 'james.hoyt1124@gmail.com', ['veronica30327@yahoo.com'])\n",
      "('Sending', 'sarah.anderson1124@gmail.com', ['contactus@livermorelearningtree.com'])\n",
      "('Sending', 'maria.rodriguez112453@gmail.com', ['richard@superstudent.com'])\n",
      "('Sending', 'juan.sanchez112453@gmail.com', ['sanjoseeast@ikumon.com'])\n",
      "('Sending', 'michelle.chen112453@gmail.com', ['sales@southlnd.com'])\n",
      "('Sending', 'gary.chow112453@gmail.com', ['weekendenespanol@icloud.com'])\n",
      "('Sending', 'tyrone.james1124@gmail.com', ['fairfieldmontessori@talktalkbusiness.net'])\n",
      "('Sending', 'latoya.johnson1124@gmail.com', ['diane@peacepavilion.org'])\n",
      "('Sending', 'james.hoyt1124@gmail.com', ['trust.montessori@gmail.com'])\n",
      "('Sending', 'sarah.anderson1124@gmail.com', ['kojiotsuka@ikumon.com'])\n",
      "('Sending', 'maria.rodriguez112453@gmail.com', ['crystal.wsa.agency@gmail.com'])\n",
      "('Sending', 'juan.sanchez112453@gmail.com', ['acefremont@gmail.com'])\n",
      "('Sending', 'michelle.chen112453@gmail.com', ['help@lifesaveressays.com'])\n",
      "('Sending', 'gary.chow112453@gmail.com', ['franka@coe.usu.edu'])\n",
      "('Sending', 'tyrone.james1124@gmail.com', ['hgrygiel13@gmail.com'])\n",
      "('Sending', 'latoya.johnson1124@gmail.com', ['bbishop@centercal.com'])\n",
      "('Sending', 'james.hoyt1124@gmail.com', ['haeyunkim@ikumon.com'])\n",
      "('Sending', 'sarah.anderson1124@gmail.com', ['cgustaf@ymail.com'])\n",
      "('Sending', 'maria.rodriguez112453@gmail.com', ['webmaster@redwood.org'])\n",
      "('Sending', 'juan.sanchez112453@gmail.com', ['fremont@mathnasium.com'])\n",
      "('Sending', 'michelle.chen112453@gmail.com', ['info@galvanize.com'])\n",
      "('Sending', 'gary.chow112453@gmail.com', ['toddtrowtrout@yahoo.com'])\n",
      "('Sending', 'tyrone.james1124@gmail.com', ['feedback@carrington.edu'])\n",
      "('Sending', 'latoya.johnson1124@gmail.com', ['studio4artmarin@gmail.com'])\n",
      "('Sending', 'james.hoyt1124@gmail.com', ['info@johnearledogtraining.com'])\n",
      "('Sending', 'sarah.anderson1124@gmail.com', ['bmills@capsonoma.org'])\n",
      "('Sending', 'maria.rodriguez112453@gmail.com', ['phitchcock@surfermath.com'])\n"
     ]
    }
   ],
   "source": [
    "i = 0\n",
    "\n",
    "while i < len(sub_tutor_info.email) :\n",
    "    sender_indx = i%8\n",
    "    send_math_email(email_info.email[sender_indx], sub_tutor_info.email[i])\n",
    "    i = i+1"
   ]
  }
 ],
 "metadata": {
  "kernelspec": {
   "display_name": "Python 2",
   "language": "python",
   "name": "python2"
  },
  "language_info": {
   "codemirror_mode": {
    "name": "ipython",
    "version": 2
   },
   "file_extension": ".py",
   "mimetype": "text/x-python",
   "name": "python",
   "nbconvert_exporter": "python",
   "pygments_lexer": "ipython2",
   "version": "2.7.13"
  }
 },
 "nbformat": 4,
 "nbformat_minor": 2
}

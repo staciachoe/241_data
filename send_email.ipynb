{
 "cells": [
  {
   "cell_type": "code",
   "execution_count": 69,
   "metadata": {
    "collapsed": true
   },
   "outputs": [],
   "source": [
    "import pandas as pd\n",
    "import os"
   ]
  },
  {
   "cell_type": "code",
   "execution_count": 85,
   "metadata": {
    "collapsed": true
   },
   "outputs": [],
   "source": [
    "import smtplib\n",
    " \n",
    "def sendemail(from_addr, to_addr_list, cc_addr_list,\n",
    "              subject, message,\n",
    "              login, password,\n",
    "              smtpserver='smtp.gmail.com:587'):\n",
    "    header  = 'From: %s\\n' % from_addr\n",
    "    header += 'To: %s\\n' % ','.join(to_addr_list)\n",
    "    header += 'Cc: %s\\n' % ','.join(cc_addr_list)\n",
    "    header += 'Subject: %s\\n\\n' % subject\n",
    "    message = header + message\n",
    "    \n",
    "\n",
    "    server = smtplib.SMTP(smtpserver)\n",
    "    server.ehlo()\n",
    "    server.starttls()\n",
    "    server.login(login,password)\n",
    "    print (\"Sending\", from_addr, to_addr_list)\n",
    "    problems = server.sendmail(from_addr, to_addr_list, message)\n",
    "    server.quit()\n",
    "    return problems\n",
    "    #return None"
   ]
  },
  {
   "cell_type": "code",
   "execution_count": 71,
   "metadata": {
    "collapsed": false
   },
   "outputs": [],
   "source": [
    "def send_math_email(from_addr, to_addr):\n",
    "    # Identify the first name to use\n",
    "    [first_name, junk, junk2] = from_addr.split('.')\n",
    "    first_name = first_name.capitalize()\n",
    "    # Identify the login to use\n",
    "    [login, junk] = from_addr.split('@')\n",
    "    \n",
    "    sendemail(from_addr= from_addr, \n",
    "          to_addr_list = [to_addr],\n",
    "          cc_addr_list = [],\n",
    "          subject      = 'Cost for math tutoring', \n",
    "          message      = 'Hi,\\n\\nI am looking to get a math tutor for my 15 year old. What is your hourly rate ?\\n\\nThanks,\\n\\n%s' % first_name,          \n",
    "          login        = login, \n",
    "          password     = 'asdfjkl123')"
   ]
  },
  {
   "cell_type": "code",
   "execution_count": 77,
   "metadata": {
    "collapsed": false
   },
   "outputs": [],
   "source": [
    "root_path = r'C:\\Users\\stacia\\Documents\\w241\\project_tmp\\241_data'\n",
    "\n",
    "\n",
    "# Read tutoring businesses\n",
    "tutor_path = os.path.join(root_path, 'emailsonly_math+tutoring.txt')\n",
    "tutor_info = pd.read_table(tutor_path, '\\t', header=None, names=['email'])\n",
    "# Read fake email addresses\n",
    "email_path = os.path.join(root_path, 'name_list.txt')\n",
    "email_info = pd.read_table(email_path, '\\t', header=None, names=['name','email'])\n",
    "email_info = email_info.dropna()"
   ]
  },
  {
   "cell_type": "code",
   "execution_count": 78,
   "metadata": {
    "collapsed": false
   },
   "outputs": [],
   "source": [
    "# Only keep the businesses with email address, could lead to selection bias\n",
    "sub_tutor_info = tutor_info.dropna()"
   ]
  },
  {
   "cell_type": "code",
   "execution_count": 79,
   "metadata": {
    "collapsed": false
   },
   "outputs": [
    {
     "data": {
      "text/html": [
       "<div>\n",
       "<style>\n",
       "    .dataframe thead tr:only-child th {\n",
       "        text-align: right;\n",
       "    }\n",
       "\n",
       "    .dataframe thead th {\n",
       "        text-align: left;\n",
       "    }\n",
       "\n",
       "    .dataframe tbody tr th {\n",
       "        vertical-align: top;\n",
       "    }\n",
       "</style>\n",
       "<table border=\"1\" class=\"dataframe\">\n",
       "  <thead>\n",
       "    <tr style=\"text-align: right;\">\n",
       "      <th></th>\n",
       "      <th>name</th>\n",
       "      <th>email</th>\n",
       "    </tr>\n",
       "  </thead>\n",
       "  <tbody>\n",
       "    <tr>\n",
       "      <th>0</th>\n",
       "      <td>James Hoyt</td>\n",
       "      <td>james.hoyt1124@gmail.com</td>\n",
       "    </tr>\n",
       "    <tr>\n",
       "      <th>1</th>\n",
       "      <td>Sarah Anderson</td>\n",
       "      <td>sarah.anderson1124@gmail.com</td>\n",
       "    </tr>\n",
       "    <tr>\n",
       "      <th>2</th>\n",
       "      <td>Maria Rodriguez</td>\n",
       "      <td>maria.rodriguez112453@gmail.com</td>\n",
       "    </tr>\n",
       "  </tbody>\n",
       "</table>\n",
       "</div>"
      ],
      "text/plain": [
       "              name                            email\n",
       "0       James Hoyt         james.hoyt1124@gmail.com\n",
       "1   Sarah Anderson     sarah.anderson1124@gmail.com\n",
       "2  Maria Rodriguez  maria.rodriguez112453@gmail.com"
      ]
     },
     "execution_count": 79,
     "metadata": {},
     "output_type": "execute_result"
    }
   ],
   "source": [
    "email_info"
   ]
  },
  {
   "cell_type": "code",
   "execution_count": 80,
   "metadata": {
    "collapsed": false,
    "scrolled": true
   },
   "outputs": [
    {
     "data": {
      "text/html": [
       "<div>\n",
       "<style>\n",
       "    .dataframe thead tr:only-child th {\n",
       "        text-align: right;\n",
       "    }\n",
       "\n",
       "    .dataframe thead th {\n",
       "        text-align: left;\n",
       "    }\n",
       "\n",
       "    .dataframe tbody tr th {\n",
       "        vertical-align: top;\n",
       "    }\n",
       "</style>\n",
       "<table border=\"1\" class=\"dataframe\">\n",
       "  <thead>\n",
       "    <tr style=\"text-align: right;\">\n",
       "      <th></th>\n",
       "      <th>email</th>\n",
       "    </tr>\n",
       "  </thead>\n",
       "  <tbody>\n",
       "    <tr>\n",
       "      <th>0</th>\n",
       "      <td>chost@berkeley.edu</td>\n",
       "    </tr>\n",
       "    <tr>\n",
       "      <th>1</th>\n",
       "      <td>staciachoe@yahoo.com</td>\n",
       "    </tr>\n",
       "    <tr>\n",
       "      <th>2</th>\n",
       "      <td>stacia.choe@intel.com</td>\n",
       "    </tr>\n",
       "  </tbody>\n",
       "</table>\n",
       "</div>"
      ],
      "text/plain": [
       "                   email\n",
       "0     chost@berkeley.edu\n",
       "1   staciachoe@yahoo.com\n",
       "2  stacia.choe@intel.com"
      ]
     },
     "execution_count": 80,
     "metadata": {},
     "output_type": "execute_result"
    }
   ],
   "source": [
    "sub_tutor_info.head()"
   ]
  },
  {
   "cell_type": "code",
   "execution_count": 86,
   "metadata": {
    "collapsed": false
   },
   "outputs": [
    {
     "name": "stdout",
     "output_type": "stream",
     "text": [
      "('Sending', 'james.hoyt1124@gmail.com', ['chost@berkeley.edu'])\n",
      "('Sending', 'sarah.anderson1124@gmail.com', ['staciachoe@yahoo.com'])\n",
      "('Sending', 'maria.rodriguez112453@gmail.com', ['stacia.choe@intel.com'])\n"
     ]
    }
   ],
   "source": [
    "i = 0\n",
    "\n",
    "while i < len(sub_tutor_info.email) :\n",
    "    sender_indx = i%8\n",
    "    send_math_email(email_info.email[sender_indx], sub_tutor_info.email[i])\n",
    "    i = i+1"
   ]
  }
 ],
 "metadata": {
  "kernelspec": {
   "display_name": "Python 2",
   "language": "python",
   "name": "python2"
  },
  "language_info": {
   "codemirror_mode": {
    "name": "ipython",
    "version": 2
   },
   "file_extension": ".py",
   "mimetype": "text/x-python",
   "name": "python",
   "nbconvert_exporter": "python",
   "pygments_lexer": "ipython2",
   "version": "2.7.13"
  }
 },
 "nbformat": 4,
 "nbformat_minor": 2
}
